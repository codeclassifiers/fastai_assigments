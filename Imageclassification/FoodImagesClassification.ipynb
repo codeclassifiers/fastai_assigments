{
  "nbformat": 4,
  "nbformat_minor": 0,
  "metadata": {
    "colab": {
      "name": "FoodImagesClassification.ipynb",
      "provenance": [],
      "collapsed_sections": [],
      "include_colab_link": true
    },
    "kernelspec": {
      "name": "python3",
      "display_name": "Python 3"
    },
    "accelerator": "GPU"
  },
  "cells": [
    {
      "cell_type": "markdown",
      "metadata": {
        "id": "view-in-github",
        "colab_type": "text"
      },
      "source": [
        "<a href=\"https://colab.research.google.com/github/codeclassifiers/fastai_assigments/blob/master/Imageclassification/FoodImagesClassification.ipynb\" target=\"_parent\"><img src=\"https://colab.research.google.com/assets/colab-badge.svg\" alt=\"Open In Colab\"/></a>"
      ]
    },
    {
      "cell_type": "markdown",
      "metadata": {
        "id": "EIUqALSt4tCO",
        "colab_type": "text"
      },
      "source": [
        "## As a part of assignments from fast.ai deep learning course this notebook covers how to implement a basic image classifier using fast.ai library. You can add your own categories and play around with this notebook either locally or on google colab."
      ]
    },
    {
      "cell_type": "code",
      "metadata": {
        "id": "bUlk0AMytFv_",
        "colab_type": "code",
        "colab": {}
      },
      "source": [
        "# Mandatory notebook commands\n",
        "%reload_ext autoreload\n",
        "%autoreload 2\n",
        "%matplotlib inline"
      ],
      "execution_count": 0,
      "outputs": []
    },
    {
      "cell_type": "code",
      "metadata": {
        "id": "-xS9uSyItZyC",
        "colab_type": "code",
        "colab": {}
      },
      "source": [
        "#We are using fast ai libraries for image classification\n",
        "from fastai.vision import *\n",
        "from fastai.metrics import error_rate"
      ],
      "execution_count": 0,
      "outputs": []
    },
    {
      "cell_type": "markdown",
      "metadata": {
        "id": "I3EoG1ix50XI",
        "colab_type": "text"
      },
      "source": [
        "### Downloading and cleaning images for creating a dataset"
      ]
    },
    {
      "cell_type": "code",
      "metadata": {
        "id": "UsI1eYe3JhQe",
        "colab_type": "code",
        "colab": {}
      },
      "source": [
        "#In order to train our model we create dataset folder in which we will download images for training\n",
        "dir_path = \"sample_data/dataset\""
      ],
      "execution_count": 0,
      "outputs": []
    },
    {
      "cell_type": "markdown",
      "metadata": {
        "id": "0Fj9ivk3XeEg",
        "colab_type": "text"
      },
      "source": [
        "We need three separate folders called train, test and valid to add images for training, testing and validation purposes. This is because we are using *from_folder* function from fast ai **ImageDataBunch** class of fast.ai vision library. Details could be found in documentation of ImageDataBunch class here [doc](https://docs.fast.ai/vision.data.html#ImageDataBunch.from_folder)"
      ]
    },
    {
      "cell_type": "code",
      "metadata": {
        "id": "OhL6fcSZyTW8",
        "colab_type": "code",
        "colab": {}
      },
      "source": [
        "!mkdir $dir_path\n",
        "!mkdir $dir_path/train\n",
        "!mkdir $dir_path/test\n",
        "!mkdir $dir_path/valid"
      ],
      "execution_count": 0,
      "outputs": []
    },
    {
      "cell_type": "markdown",
      "metadata": {
        "id": "MPu-zliTYTDQ",
        "colab_type": "text"
      },
      "source": [
        "**google_images_download** is a python package for downloading images from google images search. You can find details and arguments passed to it here: [link](https://google-images-download.readthedocs.io/en/latest/index.html)"
      ]
    },
    {
      "cell_type": "code",
      "metadata": {
        "id": "v5EMHezAtkvC",
        "colab_type": "code",
        "outputId": "350b9aae-c77c-4f01-f158-29b5c8cc7fd7",
        "colab": {
          "base_uri": "https://localhost:8080/",
          "height": 71
        }
      },
      "source": [
        "#Install a helper pip module to download images from google for creating dataset\n",
        "!pip install google_images_download"
      ],
      "execution_count": 13,
      "outputs": [
        {
          "output_type": "stream",
          "text": [
            "Requirement already satisfied: google_images_download in /usr/local/lib/python3.6/dist-packages (2.8.0)\n",
            "Requirement already satisfied: selenium in /usr/local/lib/python3.6/dist-packages (from google_images_download) (3.141.0)\n",
            "Requirement already satisfied: urllib3 in /usr/local/lib/python3.6/dist-packages (from selenium->google_images_download) (1.24.3)\n"
          ],
          "name": "stdout"
        }
      ]
    },
    {
      "cell_type": "markdown",
      "metadata": {
        "id": "2SqvN0BiYrIt",
        "colab_type": "text"
      },
      "source": [
        "Below we have created an array called `categories` where we can add all the image categories between which our image classifier is supposed to distinguish between."
      ]
    },
    {
      "cell_type": "code",
      "metadata": {
        "id": "K2JIFQv3KoJU",
        "colab_type": "code",
        "colab": {}
      },
      "source": [
        "from google_images_download import google_images_download   #importing the library\n",
        "categories = [\"mcdonalds burger\",\"mcdonalds french fries\", \"mcdonalds float\", \"mcdonalds nuggets\"]\n",
        "folder_names = [\n",
        "                {\"folder_name\":\"train\",\"image_limit\":300,\"extra_keyword\":\"jpg\"},\n",
        "                {\"folder_name\":\"test\",\"image_limit\":60,\"extra_keyword\":\"png\"},\n",
        "                {\"folder_name\":\"valid\",\"image_limit\":40,\"extra_keyword\":\"hd\"}\n",
        "]"
      ],
      "execution_count": 0,
      "outputs": []
    },
    {
      "cell_type": "markdown",
      "metadata": {
        "id": "Yyme4ZAXzI8C",
        "colab_type": "text"
      },
      "source": [
        "We need to install chromedriver since it is required by google-images-download package if number of images to be downloaded are more than 100"
      ]
    },
    {
      "cell_type": "code",
      "metadata": {
        "id": "oMtkD3DDQk48",
        "colab_type": "code",
        "colab": {}
      },
      "source": [
        "!sudo apt-get update\n",
        "!sudo apt-get install chromium-chromedriver"
      ],
      "execution_count": 0,
      "outputs": []
    },
    {
      "cell_type": "code",
      "metadata": {
        "id": "FfEUvQ9Opsd7",
        "colab_type": "code",
        "colab": {}
      },
      "source": [
        "#Create instance of google_images_download package\n",
        "response = google_images_download.googleimagesdownload()   #class instantiation"
      ],
      "execution_count": 0,
      "outputs": []
    },
    {
      "cell_type": "code",
      "metadata": {
        "id": "PMpgP6mjt-1I",
        "colab_type": "code",
        "colab": {}
      },
      "source": [
        "#start downloading images of various categories in respective folders\n",
        "#Outer loop iterates through categories list and inner one through train,test and valid folders\n",
        "for individual_category in categories:\n",
        "  for folder_item in folder_names:\n",
        "    extra_keyword = folder_item['extra_keyword']\n",
        "    limit = folder_item['image_limit']\n",
        "    arguments = {\n",
        "                \"keywords\":f\"{individual_category} {extra_keyword}\",\n",
        "                \"limit\": limit,\n",
        "                \"print_urls\":True, \n",
        "                \"output_directory\":f\"{dir_path}/{folder_item['folder_name']}/\",\n",
        "                \"image_directory\": individual_category,\n",
        "                \"size\": \"medium\",\n",
        "                \"chromedriver\": \"/usr/bin/chromedriver\"\n",
        "              }\n",
        "                  #creating list of arguments\n",
        "    paths = response.download(arguments)   #passing the arguments to the function"
      ],
      "execution_count": 0,
      "outputs": []
    },
    {
      "cell_type": "markdown",
      "metadata": {
        "id": "aj4tx_-szvCk",
        "colab_type": "text"
      },
      "source": [
        "It is observed that some of the downloaded images may be corrupt and need to removed before we can pass them to our learning model. The below helper function helps in identifying and removing such images."
      ]
    },
    {
      "cell_type": "code",
      "metadata": {
        "id": "bGgtCkB-agvB",
        "colab_type": "code",
        "colab": {}
      },
      "source": [
        "# https://github.com/drigio/FastAI-Tutorials/blob/master/Lesson-1/del_unwanted.py\n",
        "import os\n",
        "import sys\n",
        "from PIL import Image\n",
        "\n",
        "def remove_corrupted_images(dirname):\n",
        "  cnt=0\n",
        "  for filename in os.listdir(dirname):\n",
        "      try:\n",
        "          img=Image.open(dirname+\"/\"+filename)\n",
        "      except OSError:\n",
        "          print(\"FILE: \", filename, \"is corrupt!\")\n",
        "          cnt+=1\n",
        "          os.remove(dirname+filename)\n",
        "      print(\"Successfully Completed Operation! Files Courrupted are \", cnt)"
      ],
      "execution_count": 0,
      "outputs": []
    },
    {
      "cell_type": "code",
      "metadata": {
        "id": "Cq3YzFoVaxlH",
        "colab_type": "code",
        "colab": {}
      },
      "source": [
        "#remove corrupted images from folders\n",
        "for individual_category in categories:\n",
        "  for folder_item in folder_names:\n",
        "    remove_corrupted_images(f\"{dir_path}/{folder_item['folder_name']}/{individual_category}/\")"
      ],
      "execution_count": 0,
      "outputs": []
    },
    {
      "cell_type": "markdown",
      "metadata": {
        "id": "U0NJIvPM59n4",
        "colab_type": "text"
      },
      "source": [
        "### Create a dataset from downloaded images"
      ]
    },
    {
      "cell_type": "code",
      "metadata": {
        "id": "Q8vqGqWg-rPa",
        "colab_type": "code",
        "colab": {}
      },
      "source": [
        "#create a databunch from images\n",
        "bs = 64\n",
        "data = ImageDataBunch.from_folder(path='sample_data/dataset',ds_tfms=get_transforms(), size=224, bs=bs\n",
        "                                  ).normalize(imagenet_stats)"
      ],
      "execution_count": 0,
      "outputs": []
    },
    {
      "cell_type": "code",
      "metadata": {
        "id": "9HoBjbd9CE5A",
        "colab_type": "code",
        "colab": {}
      },
      "source": [
        "#show a part of databuncg images\n",
        "data.show_batch(rows=3, figsize=(7,6))"
      ],
      "execution_count": 0,
      "outputs": []
    },
    {
      "cell_type": "code",
      "metadata": {
        "id": "PqqpJXBsCQDk",
        "colab_type": "code",
        "colab": {}
      },
      "source": [
        "#get the classes created from databunch object\n",
        "print(data.classes)\n",
        "len(data.classes),data.c"
      ],
      "execution_count": 0,
      "outputs": []
    },
    {
      "cell_type": "markdown",
      "metadata": {
        "id": "cMZ0J1Xz6HAz",
        "colab_type": "text"
      },
      "source": [
        "### Train the model on dataset using transfer learning"
      ]
    },
    {
      "cell_type": "code",
      "metadata": {
        "id": "gwU60FLeCXaW",
        "colab_type": "code",
        "colab": {}
      },
      "source": [
        "#initialize cnn learner\n",
        "learn = cnn_learner(data, models.resnet34, metrics=error_rate)"
      ],
      "execution_count": 0,
      "outputs": []
    },
    {
      "cell_type": "code",
      "metadata": {
        "id": "k88F_sFYCbr0",
        "colab_type": "code",
        "colab": {}
      },
      "source": [
        "#check out layer of the model\n",
        "learn.model"
      ],
      "execution_count": 0,
      "outputs": []
    },
    {
      "cell_type": "code",
      "metadata": {
        "id": "Os8HSPn1CfU2",
        "colab_type": "code",
        "colab": {}
      },
      "source": [
        "#fit model using fit_one_cycle method\n",
        "learn.fit_one_cycle(4)"
      ],
      "execution_count": 0,
      "outputs": []
    },
    {
      "cell_type": "code",
      "metadata": {
        "id": "lVIFEXS0Cin2",
        "colab_type": "code",
        "colab": {}
      },
      "source": [
        "#save the current state of model\n",
        "learn.save('stage-1')"
      ],
      "execution_count": 0,
      "outputs": []
    },
    {
      "cell_type": "code",
      "metadata": {
        "id": "HAOoUCusCtmM",
        "colab_type": "code",
        "colab": {}
      },
      "source": [
        "#optional steps\n",
        "interp = ClassificationInterpretation.from_learner(learn)\n",
        "\n",
        "losses,idxs = interp.top_losses()\n",
        "\n",
        "len(data.valid_ds)==len(losses)==len(idxs)"
      ],
      "execution_count": 0,
      "outputs": []
    },
    {
      "cell_type": "code",
      "metadata": {
        "id": "gozOu_OGC2Zx",
        "colab_type": "code",
        "colab": {}
      },
      "source": [
        "#get top losses from the learning process\n",
        "interp.plot_top_losses(9, figsize=(15,11))"
      ],
      "execution_count": 0,
      "outputs": []
    },
    {
      "cell_type": "code",
      "metadata": {
        "id": "gnQUDD62C4us",
        "colab_type": "code",
        "colab": {}
      },
      "source": [
        "#get top confused categories\n",
        "interp.most_confused(min_val=2)"
      ],
      "execution_count": 0,
      "outputs": []
    },
    {
      "cell_type": "code",
      "metadata": {
        "id": "UW-FdN_kDJkR",
        "colab_type": "code",
        "colab": {}
      },
      "source": [
        "#optional steps if model accuracy is not great. In this case it was nor reuqired\n",
        "learn.unfreeze()"
      ],
      "execution_count": 0,
      "outputs": []
    },
    {
      "cell_type": "code",
      "metadata": {
        "id": "sQCNZ-tqDNOg",
        "colab_type": "code",
        "colab": {}
      },
      "source": [
        "learn.fit_one_cycle(1)"
      ],
      "execution_count": 0,
      "outputs": []
    },
    {
      "cell_type": "code",
      "metadata": {
        "id": "IQaUHOWkDPdj",
        "colab_type": "code",
        "colab": {}
      },
      "source": [
        "learn.load('stage-1');"
      ],
      "execution_count": 0,
      "outputs": []
    },
    {
      "cell_type": "code",
      "metadata": {
        "id": "vxlYKNlxDUPJ",
        "colab_type": "code",
        "colab": {}
      },
      "source": [
        "learn.lr_find()"
      ],
      "execution_count": 0,
      "outputs": []
    },
    {
      "cell_type": "code",
      "metadata": {
        "id": "eA0SdwXMDWSh",
        "colab_type": "code",
        "colab": {}
      },
      "source": [
        "learn.recorder.plot()"
      ],
      "execution_count": 0,
      "outputs": []
    },
    {
      "cell_type": "code",
      "metadata": {
        "id": "rR1xmpQjEP-1",
        "colab_type": "code",
        "colab": {}
      },
      "source": [
        "learn.unfreeze()\n",
        "learn.fit_one_cycle(2, max_lr=slice(1e-03,1e-02))"
      ],
      "execution_count": 0,
      "outputs": []
    },
    {
      "cell_type": "markdown",
      "metadata": {
        "id": "sUGIGV6n6NpE",
        "colab_type": "text"
      },
      "source": [
        "### Predict image category using the trained model"
      ]
    },
    {
      "cell_type": "markdown",
      "metadata": {
        "id": "cv7ZouKS1k9O",
        "colab_type": "text"
      },
      "source": [
        "Make prediction on one of the training images using the model\n"
      ]
    },
    {
      "cell_type": "code",
      "metadata": {
        "id": "TI88rYV8imqB",
        "colab_type": "code",
        "colab": {}
      },
      "source": [
        "img = learn.data.train_ds[0][0]\n",
        "img"
      ],
      "execution_count": 0,
      "outputs": []
    },
    {
      "cell_type": "code",
      "metadata": {
        "id": "jL9OBWrmi_PR",
        "colab_type": "code",
        "colab": {}
      },
      "source": [
        "learn.predict(img)"
      ],
      "execution_count": 0,
      "outputs": []
    },
    {
      "cell_type": "markdown",
      "metadata": {
        "id": "9yCpqnOe1rId",
        "colab_type": "text"
      },
      "source": [
        "Make prediction on externally downloaded images using same model"
      ]
    },
    {
      "cell_type": "code",
      "metadata": {
        "id": "vVYPsD4HysaY",
        "colab_type": "code",
        "colab": {}
      },
      "source": [
        "test_image_arguments = {\n",
        "                \"keywords\":\"mcdonalds french fries png\",\n",
        "                \"limit\": 1,\n",
        "                \"print_urls\":True, \n",
        "                \"output_directory\":f\"{dir_path}/final_test/\",\n",
        "                \"image_directory\": \"frech_fries\",\n",
        "                \"size\": \"medium\",\n",
        "                \"chromedriver\": \"/usr/bin/chromedriver\"\n",
        "}\n",
        "img = response.download(test_image_arguments)"
      ],
      "execution_count": 0,
      "outputs": []
    },
    {
      "cell_type": "code",
      "metadata": {
        "id": "Gbw23-0RukLY",
        "colab_type": "code",
        "colab": {}
      },
      "source": [
        "#source:- https://medium.com/@swapp19902/image-classifier-using-fastai-and-google-colab-87dfc4e90e63\n",
        "filename = f'{dir_path}/final_test/frech_fries/1.585ac06b4f6ae202fedf293b.png'\n",
        "img2 = open_image(filename)"
      ],
      "execution_count": 0,
      "outputs": []
    },
    {
      "cell_type": "code",
      "metadata": {
        "id": "j5y8hb-1wu1W",
        "colab_type": "code",
        "colab": {}
      },
      "source": [
        "# See how the image looks\n",
        "img2"
      ],
      "execution_count": 0,
      "outputs": []
    },
    {
      "cell_type": "code",
      "metadata": {
        "id": "AFN2sms1wv9S",
        "colab_type": "code",
        "colab": {}
      },
      "source": [
        "prediction = learn.predict(img2)\n",
        "print(prediction)"
      ],
      "execution_count": 0,
      "outputs": []
    },
    {
      "cell_type": "markdown",
      "metadata": {
        "id": "If43rnCl1xjE",
        "colab_type": "text"
      },
      "source": [
        "### Export the model in .pkl format ot be reused later"
      ]
    },
    {
      "cell_type": "code",
      "metadata": {
        "id": "81Lh9-T2yxTA",
        "colab_type": "code",
        "colab": {}
      },
      "source": [
        "learn.export()"
      ],
      "execution_count": 0,
      "outputs": []
    }
  ]
}